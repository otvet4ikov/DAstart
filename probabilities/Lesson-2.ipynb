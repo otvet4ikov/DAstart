{
 "cells": [
  {
   "cell_type": "code",
   "execution_count": 1,
   "metadata": {},
   "outputs": [],
   "source": [
    "from scipy import special\n"
   ]
  },
  {
   "cell_type": "markdown",
   "metadata": {},
   "source": [
    "Устройство, состоящее из `пяти` независимо работающих элементов, включается за время Т. Вероятность отказа каждого из них за это время равна `0,4`. Найти вероятность того, что откажут `три` элемента. Ответ округлите до четырёх знаков после запятой. В качестве десятичного разделителя используйте точку."
   ]
  },
  {
   "cell_type": "code",
   "execution_count": 2,
   "metadata": {},
   "outputs": [
    {
     "data": {
      "text/plain": [
       "0.23040000000000005"
      ]
     },
     "execution_count": 2,
     "metadata": {},
     "output_type": "execute_result"
    }
   ],
   "source": [
    "n = 5\n",
    "k = 3\n",
    "p = 0.4\n",
    "q=1-p\n",
    "\n",
    "prob = special.comb(n,k)*p**(k)*q**(n-k)\n",
    "prob"
   ]
  },
  {
   "cell_type": "markdown",
   "metadata": {},
   "source": [
    "Устройство, состоящее из `пяти` независимо работающих элементов, включается за время Т. Вероятность отказа каждого из них за это время равна `0,4`. Найдите вероятность того, что `хотя бы один` элемент откажет. Ответ округлите до трёх знаков после запятой. В качестве десятичного разделителя используйте точку."
   ]
  },
  {
   "cell_type": "code",
   "execution_count": 3,
   "metadata": {},
   "outputs": [
    {
     "data": {
      "text/plain": [
       "0.9222400000000001"
      ]
     },
     "execution_count": 3,
     "metadata": {},
     "output_type": "execute_result"
    }
   ],
   "source": [
    "# Определим какова вероятность отказа нуля элементов и вычтем из полной вероятности\n",
    "\n",
    "n = 5\n",
    "k = 0\n",
    "p = 0.4\n",
    "q = 1-p\n",
    "\n",
    "prob = 1 - special.comb(n,k)*p**(k)*q**(n-k)\n",
    "prob"
   ]
  },
  {
   "cell_type": "markdown",
   "metadata": {},
   "source": [
    "Производится `8` выстрелов по цели, в каждом из которых вероятность попадания равна `0,3`. Найти вероятность того, что цель будет поражена `хотя бы два раза`. Ответ округлите до тысячных. В качестве десятичного разделителя используйте точку."
   ]
  },
  {
   "cell_type": "code",
   "execution_count": 4,
   "metadata": {},
   "outputs": [
    {
     "data": {
      "text/plain": [
       "0.7447016700000001"
      ]
     },
     "execution_count": 4,
     "metadata": {},
     "output_type": "execute_result"
    }
   ],
   "source": [
    "# Определим какова вероятность нуля и одного попадания и вычтем из полной вероятности\n",
    "\n",
    "n = 8\n",
    "k0 = 0\n",
    "k1 = 1\n",
    "p = 0.3\n",
    "q = 1 - p\n",
    "\n",
    "prob0 = special.comb(n,k0)*p**(k0)*q**(n-k0)\n",
    "prob1 = special.comb(n,k1)*p**(k1)*q**(n-k1)\n",
    "prob = 1 - prob0 - prob1\n",
    "prob"
   ]
  },
  {
   "cell_type": "markdown",
   "metadata": {},
   "source": [
    "В магазине `7` покупателей. Каждый может совершить покупку с вероятностью `0,4`. Найти вероятность того, что не более `двух` человек совершат покупку. Ответ округлите до сотых. В качестве десятичного разделителя используйте точку."
   ]
  },
  {
   "cell_type": "code",
   "execution_count": 5,
   "metadata": {},
   "outputs": [
    {
     "data": {
      "text/plain": [
       "0.41990399999999994"
      ]
     },
     "execution_count": 5,
     "metadata": {},
     "output_type": "execute_result"
    }
   ],
   "source": [
    "# Определим какова вероятность, что купит 0, 1 или 2 человека\n",
    "\n",
    "n = 7\n",
    "k0 = 0\n",
    "k1 = 1\n",
    "k2 = 2\n",
    "p = 0.4\n",
    "q = 1 - p\n",
    "\n",
    "prob0 = special.comb(n,k0)*p**(k0)*q**(n-k0)\n",
    "prob1 = special.comb(n,k1)*p**(k1)*q**(n-k1)\n",
    "prob2 = special.comb(n,k2)*p**(k2)*q**(n-k2)\n",
    "prob = prob0 + prob1 + prob2\n",
    "prob"
   ]
  },
  {
   "cell_type": "markdown",
   "metadata": {},
   "source": [
    "В телеателье имеется `7` телевизоров. Для каждого телевизора вероятность того, что в данный момент он включен, равна `0,5`. Найти вероятность того, что в данный момент включены `не менее трех` телевизоров. Ответ округлите до тысячных. В качестве десятичного разделителя используйте точку."
   ]
  },
  {
   "cell_type": "code",
   "execution_count": 6,
   "metadata": {},
   "outputs": [
    {
     "data": {
      "text/plain": [
       "0.7734375"
      ]
     },
     "execution_count": 6,
     "metadata": {},
     "output_type": "execute_result"
    }
   ],
   "source": [
    "# Определим какова вероятность, что 0, 1, 2\n",
    "\n",
    "n = 7\n",
    "k0 = 0\n",
    "k1 = 1\n",
    "k2 = 2\n",
    "p = 0.5\n",
    "q = 1 - p\n",
    "\n",
    "prob0 = special.comb(n,k0)*p**(k0)*q**(n-k0)\n",
    "prob1 = special.comb(n,k1)*p**(k1)*q**(n-k1)\n",
    "prob2 = special.comb(n,k2)*p**(k2)*q**(n-k2)\n",
    "prob = 1 - (prob0 + prob1 + prob2)\n",
    "prob"
   ]
  },
  {
   "cell_type": "markdown",
   "metadata": {},
   "source": [
    "Пусть вероятность того, что покупателю необходим компьютер с операционной системой Linux, равна `0.25`. Найдите вероятность того, что `из шести` покупателей по крайней мере `двум` необходим компьютер с операционной системой Linux.\n",
    "\n",
    "Ответ округлите до сотых, в качестве разделителя используйте точку."
   ]
  },
  {
   "cell_type": "code",
   "execution_count": 7,
   "metadata": {
    "scrolled": true
   },
   "outputs": [
    {
     "data": {
      "text/plain": [
       "0.466064453125"
      ]
     },
     "execution_count": 7,
     "metadata": {},
     "output_type": "execute_result"
    }
   ],
   "source": [
    "# Определим какова вероятность, что 0, 1\n",
    "\n",
    "n = 6\n",
    "k0 = 0\n",
    "k1 = 1\n",
    "p = 0.25\n",
    "q = 1 - p\n",
    "\n",
    "prob0 = special.comb(n,k0)*p**(k0)*q**(n-k0)\n",
    "prob1 = special.comb(n,k1)*p**(k1)*q**(n-k1)\n",
    "prob = 1 - (prob0 + prob1)\n",
    "prob"
   ]
  },
  {
   "cell_type": "markdown",
   "metadata": {},
   "source": [
    "Для нормальной работы отдела по дата-аналитике необходимо, чтобы в офисе было `не менее восьми` программистов, а всего в штате `10` программистов. Вероятность того, что программист заболеет, равна `0.1`. Найдите вероятность нормальной работы отдела по дата-аналитике."
   ]
  },
  {
   "cell_type": "code",
   "execution_count": 8,
   "metadata": {},
   "outputs": [
    {
     "data": {
      "text/plain": [
       "0.9298091736000003"
      ]
     },
     "execution_count": 8,
     "metadata": {},
     "output_type": "execute_result"
    }
   ],
   "source": [
    "# Определим какова вероятность, что 0, 1 или 2\n",
    "\n",
    "n = 10\n",
    "k0 = 0\n",
    "k1 = 1\n",
    "k2 = 2\n",
    "p = 0.1\n",
    "q = 1 - p\n",
    "\n",
    "prob0 = special.comb(n,k0)*p**(k0)*q**(n-k0)\n",
    "prob1 = special.comb(n,k1)*p**(k1)*q**(n-k1)\n",
    "prob2 = special.comb(n,k2)*p**(k2)*q**(n-k2)\n",
    "prob = prob0 + prob1 + prob2\n",
    "prob"
   ]
  },
  {
   "cell_type": "markdown",
   "metadata": {},
   "source": [
    "Среди всех скриптов, которые пишет программист, с `10%-ой` вероятностью скрипт будет с ошибкой. Найдем вероятность того, что среди `30` скриптов `два` не будут работать."
   ]
  },
  {
   "cell_type": "code",
   "execution_count": 9,
   "metadata": {},
   "outputs": [
    {
     "data": {
      "text/plain": [
       "0.22765622036690203"
      ]
     },
     "execution_count": 9,
     "metadata": {},
     "output_type": "execute_result"
    }
   ],
   "source": [
    "n = 30\n",
    "k = 2\n",
    "p = 0.1\n",
    "q = 1 - p\n",
    "\n",
    "prob = special.comb(n,k)*p**(k)*q**(n-k)\n",
    "prob"
   ]
  },
  {
   "cell_type": "markdown",
   "metadata": {},
   "source": [
    "В очень большом чате по дата аналитике сидит `1730` человек. Вероятность того, что день рождения наугад взятого участника чата приходится на определенный день года, равна `1/365` для каждого из 365 дней. Найдем наиболее вероятное число счастливчиков, которые родились 1 марта."
   ]
  },
  {
   "cell_type": "code",
   "execution_count": 11,
   "metadata": {},
   "outputs": [
    {
     "name": "stdout",
     "output_type": "stream",
     "text": [
      "3.742465753424658 4.742465753424658\n"
     ]
    }
   ],
   "source": [
    "n = 1730\n",
    "k = 2\n",
    "p = 1/365\n",
    "q = 1 - p\n",
    "\n",
    "k1 = n*p-q\n",
    "k2 = n*p+p\n",
    "print(k1, k2)"
   ]
  },
  {
   "cell_type": "markdown",
   "metadata": {},
   "source": [
    "В урне `20 шаров: 15 белых и 5 чёрных`. Вынули подряд `5 шаров`, причём каждый вынутый шар возвращается в урну и перед извлечением следующего шары в урне тщательно перемешиваются. Найдите вероятность того, что из `пяти` вынутых шаров будет `2 белых`."
   ]
  },
  {
   "cell_type": "code",
   "execution_count": 12,
   "metadata": {},
   "outputs": [
    {
     "data": {
      "text/plain": [
       "0.087890625"
      ]
     },
     "execution_count": 12,
     "metadata": {},
     "output_type": "execute_result"
    }
   ],
   "source": [
    "# вероятность выпадения белого шара 0,75, тогда\n",
    "\n",
    "n = 5\n",
    "k = 2\n",
    "p = 0.75\n",
    "q = 1 - p\n",
    "\n",
    "prob = special.comb(n,k)*p**(k)*q**(n-k)\n",
    "prob"
   ]
  },
  {
   "cell_type": "code",
   "execution_count": null,
   "metadata": {},
   "outputs": [],
   "source": []
  },
  {
   "cell_type": "code",
   "execution_count": null,
   "metadata": {},
   "outputs": [],
   "source": []
  }
 ],
 "metadata": {
  "kernelspec": {
   "display_name": "Python 3",
   "language": "python",
   "name": "python3"
  },
  "language_info": {
   "codemirror_mode": {
    "name": "ipython",
    "version": 3
   },
   "file_extension": ".py",
   "mimetype": "text/x-python",
   "name": "python",
   "nbconvert_exporter": "python",
   "pygments_lexer": "ipython3",
   "version": "3.7.3"
  }
 },
 "nbformat": 4,
 "nbformat_minor": 4
}
