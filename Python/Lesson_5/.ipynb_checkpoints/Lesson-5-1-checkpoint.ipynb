{
 "cells": [
  {
   "cell_type": "markdown",
   "metadata": {},
   "source": [
    "# Задание взято с [платформы](https://karpov.courses/)\n",
    "## Задачи.\n",
    "Представьте, что вы устроились работать аналитиком в отдел рекламы, и ваша первая задача — помочь коллегам разобраться с некоторыми вопросами:\n",
    "\n",
    "1. Получить статистику по дням. Посчитать число всех событий по дням, число показов, число кликов, число уникальных объявлений и уникальных кампаний.\n",
    "2. Разобраться, почему случился такой скачок 2019-04-05? Каких событий стало больше? У всех объявлений или только у некоторых?\n",
    "3. Найти топ 10 объявлений по CTR за все время. CTR — это отношение всех кликов объявлений к просмотрам. Например, если у объявления было 100 показов и 2 клика, CTR = 0.02. Различается ли средний и медианный CTR объявлений в наших данных?\n",
    "4. Похоже, в наших логах есть баг, объявления приходят с кликами, но без показов! Сколько таких объявлений, есть ли какие-то закономерности? Эта проблема наблюдается на всех платформах?\n",
    "5. Есть ли различия в CTR у объявлений с видео и без? А чему равняется 95 процентиль CTR по всем объявлениям за 2019-04-04?\n",
    "6. Для финансового отчета нужно рассчитать наш заработок по дням. В какой день мы заработали больше всего? В какой меньше? Мы списываем с клиентов деньги, если произошел клик по CPC объявлению, и мы списываем деньги за каждый показ CPM объявления, если у CPM объявления цена 200 рублей, то за один показ мы зарабатываем 200 / 1000.\n",
    "7. Какая платформа самая популярная для размещения рекламных объявлений? Сколько процентов показов приходится на каждую из платформ (колонка platform)?\n",
    "8. А есть ли такие объявления, по которым сначала произошел клик, а только потом показ?\n",
    "   \n",
    "## Описание колонок\n",
    "- date — день, в который происходят события\n",
    "- time — точное время события\n",
    "- event — тип события, может быть или показ или клик по рекламе\n",
    "- platform — платформа, на которой произошло рекламное событие\n",
    "- ad_id — id рекламного объявления\n",
    "- client_union_id — id рекламного клиента\n",
    "- campaign_union_id — id рекламной кампании\n",
    "- ad_cost_type — тип объявления с оплатой за клики (CPC) или за показы (CPM)\n",
    "- ad_cost — стоимость объявления в рублях, для CPC объявлений — это цена за клик, для CPM — цена за 1000 показов\n",
    "- has_video — есть ли у рекламного объявления видео\n",
    "- target_audience_count — размер аудитории, на которую таргетируется объявление"
   ]
  },
  {
   "cell_type": "code",
   "execution_count": 1,
   "metadata": {},
   "outputs": [],
   "source": [
    "import pandas as pd\n",
    "import seaborn as sns"
   ]
  },
  {
   "cell_type": "code",
   "execution_count": 2,
   "metadata": {},
   "outputs": [],
   "source": [
    "ads_data = pd.read_csv('lesson_5_ads_data.csv.zip', compression='zip')"
   ]
  },
  {
   "cell_type": "code",
   "execution_count": 3,
   "metadata": {},
   "outputs": [],
   "source": [
    "ads_data['date'] = pd.to_datetime(ads_data['date'])"
   ]
  },
  {
   "cell_type": "code",
   "execution_count": 4,
   "metadata": {},
   "outputs": [],
   "source": [
    "ads_data['full_date'] = pd.to_datetime(ads_data['time'], unit='s')"
   ]
  },
  {
   "cell_type": "code",
   "execution_count": 5,
   "metadata": {
    "scrolled": false
   },
   "outputs": [
    {
     "data": {
      "text/html": [
       "<div>\n",
       "<style scoped>\n",
       "    .dataframe tbody tr th:only-of-type {\n",
       "        vertical-align: middle;\n",
       "    }\n",
       "\n",
       "    .dataframe tbody tr th {\n",
       "        vertical-align: top;\n",
       "    }\n",
       "\n",
       "    .dataframe thead th {\n",
       "        text-align: right;\n",
       "    }\n",
       "</style>\n",
       "<table border=\"1\" class=\"dataframe\">\n",
       "  <thead>\n",
       "    <tr style=\"text-align: right;\">\n",
       "      <th></th>\n",
       "      <th>ad_id</th>\n",
       "      <th>time</th>\n",
       "      <th>event</th>\n",
       "      <th>date</th>\n",
       "      <th>ad_cost_type</th>\n",
       "      <th>has_video</th>\n",
       "      <th>client_union_id</th>\n",
       "      <th>campaign_union_id</th>\n",
       "      <th>platform</th>\n",
       "      <th>ad_cost</th>\n",
       "      <th>target_audience_count</th>\n",
       "      <th>user_id</th>\n",
       "      <th>full_date</th>\n",
       "    </tr>\n",
       "  </thead>\n",
       "  <tbody>\n",
       "    <tr>\n",
       "      <th>0</th>\n",
       "      <td>23456</td>\n",
       "      <td>1554076848</td>\n",
       "      <td>view</td>\n",
       "      <td>2019-04-01</td>\n",
       "      <td>CPM</td>\n",
       "      <td>0</td>\n",
       "      <td>5681</td>\n",
       "      <td>23456</td>\n",
       "      <td>android</td>\n",
       "      <td>190.0</td>\n",
       "      <td>125560</td>\n",
       "      <td>793</td>\n",
       "      <td>2019-04-01 00:00:48</td>\n",
       "    </tr>\n",
       "    <tr>\n",
       "      <th>1</th>\n",
       "      <td>111941</td>\n",
       "      <td>1554135866</td>\n",
       "      <td>view</td>\n",
       "      <td>2019-04-01</td>\n",
       "      <td>CPM</td>\n",
       "      <td>0</td>\n",
       "      <td>111793</td>\n",
       "      <td>111941</td>\n",
       "      <td>ios</td>\n",
       "      <td>215.2</td>\n",
       "      <td>32277</td>\n",
       "      <td>1041</td>\n",
       "      <td>2019-04-01 16:24:26</td>\n",
       "    </tr>\n",
       "    <tr>\n",
       "      <th>2</th>\n",
       "      <td>111941</td>\n",
       "      <td>1554135866</td>\n",
       "      <td>view</td>\n",
       "      <td>2019-04-01</td>\n",
       "      <td>CPM</td>\n",
       "      <td>0</td>\n",
       "      <td>111793</td>\n",
       "      <td>111941</td>\n",
       "      <td>ios</td>\n",
       "      <td>215.2</td>\n",
       "      <td>32277</td>\n",
       "      <td>41</td>\n",
       "      <td>2019-04-01 16:24:26</td>\n",
       "    </tr>\n",
       "    <tr>\n",
       "      <th>3</th>\n",
       "      <td>42987</td>\n",
       "      <td>1554135866</td>\n",
       "      <td>view</td>\n",
       "      <td>2019-04-01</td>\n",
       "      <td>CPM</td>\n",
       "      <td>0</td>\n",
       "      <td>28541</td>\n",
       "      <td>42985</td>\n",
       "      <td>ios</td>\n",
       "      <td>199.1</td>\n",
       "      <td>80160</td>\n",
       "      <td>898</td>\n",
       "      <td>2019-04-01 16:24:26</td>\n",
       "    </tr>\n",
       "    <tr>\n",
       "      <th>4</th>\n",
       "      <td>23456</td>\n",
       "      <td>1554135866</td>\n",
       "      <td>view</td>\n",
       "      <td>2019-04-01</td>\n",
       "      <td>CPM</td>\n",
       "      <td>0</td>\n",
       "      <td>5681</td>\n",
       "      <td>23456</td>\n",
       "      <td>web</td>\n",
       "      <td>190.0</td>\n",
       "      <td>125560</td>\n",
       "      <td>29</td>\n",
       "      <td>2019-04-01 16:24:26</td>\n",
       "    </tr>\n",
       "  </tbody>\n",
       "</table>\n",
       "</div>"
      ],
      "text/plain": [
       "    ad_id        time event       date ad_cost_type  has_video  \\\n",
       "0   23456  1554076848  view 2019-04-01          CPM          0   \n",
       "1  111941  1554135866  view 2019-04-01          CPM          0   \n",
       "2  111941  1554135866  view 2019-04-01          CPM          0   \n",
       "3   42987  1554135866  view 2019-04-01          CPM          0   \n",
       "4   23456  1554135866  view 2019-04-01          CPM          0   \n",
       "\n",
       "   client_union_id  campaign_union_id platform  ad_cost  \\\n",
       "0             5681              23456  android    190.0   \n",
       "1           111793             111941      ios    215.2   \n",
       "2           111793             111941      ios    215.2   \n",
       "3            28541              42985      ios    199.1   \n",
       "4             5681              23456      web    190.0   \n",
       "\n",
       "   target_audience_count  user_id           full_date  \n",
       "0                 125560      793 2019-04-01 00:00:48  \n",
       "1                  32277     1041 2019-04-01 16:24:26  \n",
       "2                  32277       41 2019-04-01 16:24:26  \n",
       "3                  80160      898 2019-04-01 16:24:26  \n",
       "4                 125560       29 2019-04-01 16:24:26  "
      ]
     },
     "execution_count": 5,
     "metadata": {},
     "output_type": "execute_result"
    }
   ],
   "source": [
    "ads_data.head()"
   ]
  },
  {
   "cell_type": "code",
   "execution_count": 6,
   "metadata": {},
   "outputs": [
    {
     "data": {
      "text/plain": [
       "(3176714, 13)"
      ]
     },
     "execution_count": 6,
     "metadata": {},
     "output_type": "execute_result"
    }
   ],
   "source": [
    "ads_data.shape"
   ]
  },
  {
   "cell_type": "code",
   "execution_count": 7,
   "metadata": {},
   "outputs": [
    {
     "data": {
      "text/plain": [
       "ad_id                             int64\n",
       "time                              int64\n",
       "event                            object\n",
       "date                     datetime64[ns]\n",
       "ad_cost_type                     object\n",
       "has_video                         int64\n",
       "client_union_id                   int64\n",
       "campaign_union_id                 int64\n",
       "platform                         object\n",
       "ad_cost                         float64\n",
       "target_audience_count             int64\n",
       "user_id                           int64\n",
       "full_date                datetime64[ns]\n",
       "dtype: object"
      ]
     },
     "execution_count": 7,
     "metadata": {},
     "output_type": "execute_result"
    }
   ],
   "source": [
    "ads_data.dtypes"
   ]
  },
  {
   "cell_type": "markdown",
   "metadata": {},
   "source": [
    "- Получить статистику по дням. Посчитать число всех событий по дням, число показов, число кликов, число уникальных объявлений и уникальных кампаний.\n",
    "\n",
    "- Разобраться, почему случился такой скачок `2019-04-05`? Каких событий стало больше? У всех объявлений или только у некоторых?"
   ]
  },
  {
   "cell_type": "code",
   "execution_count": 8,
   "metadata": {
    "scrolled": true
   },
   "outputs": [
    {
     "data": {
      "text/html": [
       "<style  type=\"text/css\" >\n",
       "#T_6b415106_642a_11ee_bdbb_96000040dfb6row4_col1{\n",
       "            background-color:  red;\n",
       "        }</style><table id=\"T_6b415106_642a_11ee_bdbb_96000040dfb6\" ><thead>    <tr>        <th class=\"blank level0\" ></th>        <th class=\"col_heading level0 col0\" >date</th>        <th class=\"col_heading level0 col1\" >event</th>    </tr></thead><tbody>\n",
       "                <tr>\n",
       "                        <th id=\"T_6b415106_642a_11ee_bdbb_96000040dfb6level0_row0\" class=\"row_heading level0 row0\" >0</th>\n",
       "                        <td id=\"T_6b415106_642a_11ee_bdbb_96000040dfb6row0_col0\" class=\"data row0 col0\" >2019-04-01 00:00:00</td>\n",
       "                        <td id=\"T_6b415106_642a_11ee_bdbb_96000040dfb6row0_col1\" class=\"data row0 col1\" >35567</td>\n",
       "            </tr>\n",
       "            <tr>\n",
       "                        <th id=\"T_6b415106_642a_11ee_bdbb_96000040dfb6level0_row1\" class=\"row_heading level0 row1\" >1</th>\n",
       "                        <td id=\"T_6b415106_642a_11ee_bdbb_96000040dfb6row1_col0\" class=\"data row1 col0\" >2019-04-02 00:00:00</td>\n",
       "                        <td id=\"T_6b415106_642a_11ee_bdbb_96000040dfb6row1_col1\" class=\"data row1 col1\" >147329</td>\n",
       "            </tr>\n",
       "            <tr>\n",
       "                        <th id=\"T_6b415106_642a_11ee_bdbb_96000040dfb6level0_row2\" class=\"row_heading level0 row2\" >2</th>\n",
       "                        <td id=\"T_6b415106_642a_11ee_bdbb_96000040dfb6row2_col0\" class=\"data row2 col0\" >2019-04-03 00:00:00</td>\n",
       "                        <td id=\"T_6b415106_642a_11ee_bdbb_96000040dfb6row2_col1\" class=\"data row2 col1\" >216529</td>\n",
       "            </tr>\n",
       "            <tr>\n",
       "                        <th id=\"T_6b415106_642a_11ee_bdbb_96000040dfb6level0_row3\" class=\"row_heading level0 row3\" >3</th>\n",
       "                        <td id=\"T_6b415106_642a_11ee_bdbb_96000040dfb6row3_col0\" class=\"data row3 col0\" >2019-04-04 00:00:00</td>\n",
       "                        <td id=\"T_6b415106_642a_11ee_bdbb_96000040dfb6row3_col1\" class=\"data row3 col1\" >127699</td>\n",
       "            </tr>\n",
       "            <tr>\n",
       "                        <th id=\"T_6b415106_642a_11ee_bdbb_96000040dfb6level0_row4\" class=\"row_heading level0 row4\" >4</th>\n",
       "                        <td id=\"T_6b415106_642a_11ee_bdbb_96000040dfb6row4_col0\" class=\"data row4 col0\" >2019-04-05 00:00:00</td>\n",
       "                        <td id=\"T_6b415106_642a_11ee_bdbb_96000040dfb6row4_col1\" class=\"data row4 col1\" >2284883</td>\n",
       "            </tr>\n",
       "            <tr>\n",
       "                        <th id=\"T_6b415106_642a_11ee_bdbb_96000040dfb6level0_row5\" class=\"row_heading level0 row5\" >5</th>\n",
       "                        <td id=\"T_6b415106_642a_11ee_bdbb_96000040dfb6row5_col0\" class=\"data row5 col0\" >2019-04-06 00:00:00</td>\n",
       "                        <td id=\"T_6b415106_642a_11ee_bdbb_96000040dfb6row5_col1\" class=\"data row5 col1\" >364707</td>\n",
       "            </tr>\n",
       "    </tbody></table>"
      ],
      "text/plain": [
       "<pandas.io.formats.style.Styler at 0x7fd2a3fc3240>"
      ]
     },
     "execution_count": 8,
     "metadata": {},
     "output_type": "execute_result"
    }
   ],
   "source": [
    "ads_data.groupby('date', as_index=False) \\\n",
    "        .aggregate({'event': 'count'}) \\\n",
    "        .style.highlight_max('event', color='red')\n",
    "        "
   ]
  },
  {
   "cell_type": "code",
   "execution_count": 9,
   "metadata": {},
   "outputs": [
    {
     "data": {
      "text/plain": [
       "<matplotlib.axes._subplots.AxesSubplot at 0x7fd2e47c2908>"
      ]
     },
     "execution_count": 9,
     "metadata": {},
     "output_type": "execute_result"
    },
    {
     "data": {
      "image/png": "[encoded data removed]",
      "text/plain": [
       "<Figure size 432x288 with 1 Axes>"
      ]
     },
     "metadata": {
      "needs_background": "light"
     },
     "output_type": "display_data"
    }
   ],
   "source": [
    "# удобно будет построить график и увидеть скачок (как в уроке)\n",
    "\n",
    "ads_data.groupby('date') \\\n",
    "        .aggregate({'event': 'count'}) \\\n",
    "        .plot()\n",
    "\n",
    "# на графике отчетливо видно как сильно изменилось"
   ]
  },
  {
   "cell_type": "code",
   "execution_count": 10,
   "metadata": {
    "scrolled": true
   },
   "outputs": [
    {
     "data": {
      "text/html": [
       "<style  type=\"text/css\" >\n",
       "#T_6b415107_642a_11ee_bdbb_96000040dfb6row0_col0,#T_6b415107_642a_11ee_bdbb_96000040dfb6row1_col0,#T_6b415107_642a_11ee_bdbb_96000040dfb6row2_col0,#T_6b415107_642a_11ee_bdbb_96000040dfb6row3_col0{\n",
       "            background-color:  #fff5f0;\n",
       "            color:  #000000;\n",
       "        }#T_6b415107_642a_11ee_bdbb_96000040dfb6row0_col1{\n",
       "            background-color:  #f7fbff;\n",
       "            color:  #000000;\n",
       "        }#T_6b415107_642a_11ee_bdbb_96000040dfb6row1_col1{\n",
       "            background-color:  #eaf3fb;\n",
       "            color:  #000000;\n",
       "        }#T_6b415107_642a_11ee_bdbb_96000040dfb6row2_col1{\n",
       "            background-color:  #e3eef8;\n",
       "            color:  #000000;\n",
       "        }#T_6b415107_642a_11ee_bdbb_96000040dfb6row3_col1{\n",
       "            background-color:  #edf4fc;\n",
       "            color:  #000000;\n",
       "        }#T_6b415107_642a_11ee_bdbb_96000040dfb6row4_col0{\n",
       "            background-color:  #67000d;\n",
       "            color:  #f1f1f1;\n",
       "        }#T_6b415107_642a_11ee_bdbb_96000040dfb6row4_col1{\n",
       "            background-color:  #08306b;\n",
       "            color:  #f1f1f1;\n",
       "        }#T_6b415107_642a_11ee_bdbb_96000040dfb6row5_col0{\n",
       "            background-color:  #fdd7c6;\n",
       "            color:  #000000;\n",
       "        }#T_6b415107_642a_11ee_bdbb_96000040dfb6row5_col1{\n",
       "            background-color:  #dbe9f6;\n",
       "            color:  #000000;\n",
       "        }</style><table id=\"T_6b415107_642a_11ee_bdbb_96000040dfb6\" ><thead>    <tr>        <th class=\"blank level0\" ></th>        <th class=\"col_heading level0 col0\" colspan=2>event_count</th>    </tr>    <tr>        <th class=\"index_name level1\" >event</th>        <th class=\"col_heading level1 col0\" >click</th>        <th class=\"col_heading level1 col1\" >view</th>    </tr>    <tr>        <th class=\"index_name level0\" >date</th>        <th class=\"blank\" ></th>        <th class=\"blank\" ></th>    </tr></thead><tbody>\n",
       "                <tr>\n",
       "                        <th id=\"T_6b415107_642a_11ee_bdbb_96000040dfb6level0_row0\" class=\"row_heading level0 row0\" >2019-04-01 00:00:00</th>\n",
       "                        <td id=\"T_6b415107_642a_11ee_bdbb_96000040dfb6row0_col0\" class=\"data row0 col0\" >735</td>\n",
       "                        <td id=\"T_6b415107_642a_11ee_bdbb_96000040dfb6row0_col1\" class=\"data row0 col1\" >34832</td>\n",
       "            </tr>\n",
       "            <tr>\n",
       "                        <th id=\"T_6b415107_642a_11ee_bdbb_96000040dfb6level0_row1\" class=\"row_heading level0 row1\" >2019-04-02 00:00:00</th>\n",
       "                        <td id=\"T_6b415107_642a_11ee_bdbb_96000040dfb6row1_col0\" class=\"data row1 col0\" >1518</td>\n",
       "                        <td id=\"T_6b415107_642a_11ee_bdbb_96000040dfb6row1_col1\" class=\"data row1 col1\" >145811</td>\n",
       "            </tr>\n",
       "            <tr>\n",
       "                        <th id=\"T_6b415107_642a_11ee_bdbb_96000040dfb6level0_row2\" class=\"row_heading level0 row2\" >2019-04-03 00:00:00</th>\n",
       "                        <td id=\"T_6b415107_642a_11ee_bdbb_96000040dfb6row2_col0\" class=\"data row2 col0\" >1678</td>\n",
       "                        <td id=\"T_6b415107_642a_11ee_bdbb_96000040dfb6row2_col1\" class=\"data row2 col1\" >214851</td>\n",
       "            </tr>\n",
       "            <tr>\n",
       "                        <th id=\"T_6b415107_642a_11ee_bdbb_96000040dfb6level0_row3\" class=\"row_heading level0 row3\" >2019-04-04 00:00:00</th>\n",
       "                        <td id=\"T_6b415107_642a_11ee_bdbb_96000040dfb6row3_col0\" class=\"data row3 col0\" >1517</td>\n",
       "                        <td id=\"T_6b415107_642a_11ee_bdbb_96000040dfb6row3_col1\" class=\"data row3 col1\" >126182</td>\n",
       "            </tr>\n",
       "            <tr>\n",
       "                        <th id=\"T_6b415107_642a_11ee_bdbb_96000040dfb6level0_row4\" class=\"row_heading level0 row4\" >2019-04-05 00:00:00</th>\n",
       "                        <td id=\"T_6b415107_642a_11ee_bdbb_96000040dfb6row4_col0\" class=\"data row4 col0\" >501595</td>\n",
       "                        <td id=\"T_6b415107_642a_11ee_bdbb_96000040dfb6row4_col1\" class=\"data row4 col1\" >1783288</td>\n",
       "            </tr>\n",
       "            <tr>\n",
       "                        <th id=\"T_6b415107_642a_11ee_bdbb_96000040dfb6level0_row5\" class=\"row_heading level0 row5\" >2019-04-06 00:00:00</th>\n",
       "                        <td id=\"T_6b415107_642a_11ee_bdbb_96000040dfb6row5_col0\" class=\"data row5 col0\" >80420</td>\n",
       "                        <td id=\"T_6b415107_642a_11ee_bdbb_96000040dfb6row5_col1\" class=\"data row5 col1\" >284287</td>\n",
       "            </tr>\n",
       "    </tbody></table>"
      ],
      "text/plain": [
       "<pandas.io.formats.style.Styler at 0x7fd2e473b6d8>"
      ]
     },
     "execution_count": 10,
     "metadata": {},
     "output_type": "execute_result"
    }
   ],
   "source": [
    "ads_data.groupby(['date', 'event']) \\\n",
    "        .aggregate({'ad_id': 'count'}) \\\n",
    "        .rename(columns={'ad_id': 'event_count'}) \\\n",
    "        .unstack(level='event') \\\n",
    "        .style.background_gradient(subset=[('event_count', 'click')], cmap='Reds') \\\n",
    "        .background_gradient(subset=[('event_count', 'view')], cmap='Blues')\n"
   ]
  },
  {
   "cell_type": "code",
   "execution_count": 11,
   "metadata": {},
   "outputs": [
    {
     "data": {
      "text/html": [
       "<style  type=\"text/css\" >\n",
       "#T_6b415108_642a_11ee_bdbb_96000040dfb6row0_col1,#T_6b415108_642a_11ee_bdbb_96000040dfb6row1_col1,#T_6b415108_642a_11ee_bdbb_96000040dfb6row2_col1,#T_6b415108_642a_11ee_bdbb_96000040dfb6row3_col1{\n",
       "            background-color:  #fff5f0;\n",
       "            color:  #000000;\n",
       "        }#T_6b415108_642a_11ee_bdbb_96000040dfb6row0_col2{\n",
       "            background-color:  #f7fbff;\n",
       "            color:  #000000;\n",
       "        }#T_6b415108_642a_11ee_bdbb_96000040dfb6row1_col2{\n",
       "            background-color:  #eaf3fb;\n",
       "            color:  #000000;\n",
       "        }#T_6b415108_642a_11ee_bdbb_96000040dfb6row2_col2{\n",
       "            background-color:  #e3eef8;\n",
       "            color:  #000000;\n",
       "        }#T_6b415108_642a_11ee_bdbb_96000040dfb6row3_col2{\n",
       "            background-color:  #edf4fc;\n",
       "            color:  #000000;\n",
       "        }#T_6b415108_642a_11ee_bdbb_96000040dfb6row4_col1{\n",
       "            background-color:  #67000d;\n",
       "            color:  #f1f1f1;\n",
       "        }#T_6b415108_642a_11ee_bdbb_96000040dfb6row4_col2{\n",
       "            background-color:  #08306b;\n",
       "            color:  #f1f1f1;\n",
       "        }#T_6b415108_642a_11ee_bdbb_96000040dfb6row5_col1{\n",
       "            background-color:  #fdd7c6;\n",
       "            color:  #000000;\n",
       "        }#T_6b415108_642a_11ee_bdbb_96000040dfb6row5_col2{\n",
       "            background-color:  #dbe9f6;\n",
       "            color:  #000000;\n",
       "        }</style><table id=\"T_6b415108_642a_11ee_bdbb_96000040dfb6\" ><thead>    <tr>        <th class=\"index_name level0\" >event</th>        <th class=\"col_heading level0 col0\" >date</th>        <th class=\"col_heading level0 col1\" >click</th>        <th class=\"col_heading level0 col2\" >view</th>    </tr></thead><tbody>\n",
       "                <tr>\n",
       "                        <th id=\"T_6b415108_642a_11ee_bdbb_96000040dfb6level0_row0\" class=\"row_heading level0 row0\" >0</th>\n",
       "                        <td id=\"T_6b415108_642a_11ee_bdbb_96000040dfb6row0_col0\" class=\"data row0 col0\" >2019-04-01 00:00:00</td>\n",
       "                        <td id=\"T_6b415108_642a_11ee_bdbb_96000040dfb6row0_col1\" class=\"data row0 col1\" >735</td>\n",
       "                        <td id=\"T_6b415108_642a_11ee_bdbb_96000040dfb6row0_col2\" class=\"data row0 col2\" >34832</td>\n",
       "            </tr>\n",
       "            <tr>\n",
       "                        <th id=\"T_6b415108_642a_11ee_bdbb_96000040dfb6level0_row1\" class=\"row_heading level0 row1\" >1</th>\n",
       "                        <td id=\"T_6b415108_642a_11ee_bdbb_96000040dfb6row1_col0\" class=\"data row1 col0\" >2019-04-02 00:00:00</td>\n",
       "                        <td id=\"T_6b415108_642a_11ee_bdbb_96000040dfb6row1_col1\" class=\"data row1 col1\" >1518</td>\n",
       "                        <td id=\"T_6b415108_642a_11ee_bdbb_96000040dfb6row1_col2\" class=\"data row1 col2\" >145811</td>\n",
       "            </tr>\n",
       "            <tr>\n",
       "                        <th id=\"T_6b415108_642a_11ee_bdbb_96000040dfb6level0_row2\" class=\"row_heading level0 row2\" >2</th>\n",
       "                        <td id=\"T_6b415108_642a_11ee_bdbb_96000040dfb6row2_col0\" class=\"data row2 col0\" >2019-04-03 00:00:00</td>\n",
       "                        <td id=\"T_6b415108_642a_11ee_bdbb_96000040dfb6row2_col1\" class=\"data row2 col1\" >1678</td>\n",
       "                        <td id=\"T_6b415108_642a_11ee_bdbb_96000040dfb6row2_col2\" class=\"data row2 col2\" >214851</td>\n",
       "            </tr>\n",
       "            <tr>\n",
       "                        <th id=\"T_6b415108_642a_11ee_bdbb_96000040dfb6level0_row3\" class=\"row_heading level0 row3\" >3</th>\n",
       "                        <td id=\"T_6b415108_642a_11ee_bdbb_96000040dfb6row3_col0\" class=\"data row3 col0\" >2019-04-04 00:00:00</td>\n",
       "                        <td id=\"T_6b415108_642a_11ee_bdbb_96000040dfb6row3_col1\" class=\"data row3 col1\" >1517</td>\n",
       "                        <td id=\"T_6b415108_642a_11ee_bdbb_96000040dfb6row3_col2\" class=\"data row3 col2\" >126182</td>\n",
       "            </tr>\n",
       "            <tr>\n",
       "                        <th id=\"T_6b415108_642a_11ee_bdbb_96000040dfb6level0_row4\" class=\"row_heading level0 row4\" >4</th>\n",
       "                        <td id=\"T_6b415108_642a_11ee_bdbb_96000040dfb6row4_col0\" class=\"data row4 col0\" >2019-04-05 00:00:00</td>\n",
       "                        <td id=\"T_6b415108_642a_11ee_bdbb_96000040dfb6row4_col1\" class=\"data row4 col1\" >501595</td>\n",
       "                        <td id=\"T_6b415108_642a_11ee_bdbb_96000040dfb6row4_col2\" class=\"data row4 col2\" >1783288</td>\n",
       "            </tr>\n",
       "            <tr>\n",
       "                        <th id=\"T_6b415108_642a_11ee_bdbb_96000040dfb6level0_row5\" class=\"row_heading level0 row5\" >5</th>\n",
       "                        <td id=\"T_6b415108_642a_11ee_bdbb_96000040dfb6row5_col0\" class=\"data row5 col0\" >2019-04-06 00:00:00</td>\n",
       "                        <td id=\"T_6b415108_642a_11ee_bdbb_96000040dfb6row5_col1\" class=\"data row5 col1\" >80420</td>\n",
       "                        <td id=\"T_6b415108_642a_11ee_bdbb_96000040dfb6row5_col2\" class=\"data row5 col2\" >284287</td>\n",
       "            </tr>\n",
       "    </tbody></table>"
      ],
      "text/plain": [
       "<pandas.io.formats.style.Styler at 0x7fd2e426a630>"
      ]
     },
     "execution_count": 11,
     "metadata": {},
     "output_type": "execute_result"
    }
   ],
   "source": [
    "# Удобно также сделать через pivot_table \n",
    "ads_data.groupby(['date', 'event'], as_index=False) \\\n",
    "    .agg({'ad_id': 'count'}) \\\n",
    "    .pivot(index='date', columns='event', values='ad_id').reset_index() \\\n",
    "    .style.background_gradient(subset='click', cmap='Reds') \\\n",
    "    .background_gradient(subset='view', cmap='Blues')\n",
    "\n",
    "# И тогда избавляемся от мультииндексов засчет reset_index()"
   ]
  },
  {
   "cell_type": "code",
   "execution_count": 12,
   "metadata": {
    "scrolled": true
   },
   "outputs": [
    {
     "data": {
      "text/html": [
       "<div>\n",
       "<style scoped>\n",
       "    .dataframe tbody tr th:only-of-type {\n",
       "        vertical-align: middle;\n",
       "    }\n",
       "\n",
       "    .dataframe tbody tr th {\n",
       "        vertical-align: top;\n",
       "    }\n",
       "\n",
       "    .dataframe thead th {\n",
       "        text-align: right;\n",
       "    }\n",
       "</style>\n",
       "<table border=\"1\" class=\"dataframe\">\n",
       "  <thead>\n",
       "    <tr style=\"text-align: right;\">\n",
       "      <th></th>\n",
       "      <th></th>\n",
       "      <th>ad_count</th>\n",
       "    </tr>\n",
       "    <tr>\n",
       "      <th>date</th>\n",
       "      <th>ad_id</th>\n",
       "      <th></th>\n",
       "    </tr>\n",
       "  </thead>\n",
       "  <tbody>\n",
       "    <tr>\n",
       "      <th>2019-04-05</th>\n",
       "      <th>112583</th>\n",
       "      <td>2166611</td>\n",
       "    </tr>\n",
       "    <tr>\n",
       "      <th>2019-04-06</th>\n",
       "      <th>112583</th>\n",
       "      <td>348613</td>\n",
       "    </tr>\n",
       "    <tr>\n",
       "      <th>2019-04-03</th>\n",
       "      <th>104798</th>\n",
       "      <td>94554</td>\n",
       "    </tr>\n",
       "    <tr>\n",
       "      <th>2019-04-05</th>\n",
       "      <th>29927</th>\n",
       "      <td>27186</td>\n",
       "    </tr>\n",
       "    <tr>\n",
       "      <th>2019-04-03</th>\n",
       "      <th>102587</th>\n",
       "      <td>18893</td>\n",
       "    </tr>\n",
       "    <tr>\n",
       "      <th>...</th>\n",
       "      <th>...</th>\n",
       "      <td>...</td>\n",
       "    </tr>\n",
       "    <tr>\n",
       "      <th rowspan=\"3\" valign=\"top\">2019-04-02</th>\n",
       "      <th>25665</th>\n",
       "      <td>3</td>\n",
       "    </tr>\n",
       "    <tr>\n",
       "      <th>113348</th>\n",
       "      <td>3</td>\n",
       "    </tr>\n",
       "    <tr>\n",
       "      <th>46363</th>\n",
       "      <td>2</td>\n",
       "    </tr>\n",
       "    <tr>\n",
       "      <th>2019-04-01</th>\n",
       "      <th>41424</th>\n",
       "      <td>2</td>\n",
       "    </tr>\n",
       "    <tr>\n",
       "      <th>2019-04-02</th>\n",
       "      <th>120444</th>\n",
       "      <td>1</td>\n",
       "    </tr>\n",
       "  </tbody>\n",
       "</table>\n",
       "<p>716 rows × 1 columns</p>\n",
       "</div>"
      ],
      "text/plain": [
       "                   ad_count\n",
       "date       ad_id           \n",
       "2019-04-05 112583   2166611\n",
       "2019-04-06 112583    348613\n",
       "2019-04-03 104798     94554\n",
       "2019-04-05 29927      27186\n",
       "2019-04-03 102587     18893\n",
       "...                     ...\n",
       "2019-04-02 25665          3\n",
       "           113348         3\n",
       "           46363          2\n",
       "2019-04-01 41424          2\n",
       "2019-04-02 120444         1\n",
       "\n",
       "[716 rows x 1 columns]"
      ]
     },
     "execution_count": 12,
     "metadata": {},
     "output_type": "execute_result"
    }
   ],
   "source": [
    "ads_data.groupby(['date', 'ad_id']) \\\n",
    "        .aggregate({'time': 'count'}) \\\n",
    "        .rename(columns={'time': 'ad_count'}) \\\n",
    "        .sort_values('ad_count', ascending=False)"
   ]
  },
  {
   "cell_type": "code",
   "execution_count": 13,
   "metadata": {
    "scrolled": true
   },
   "outputs": [
    {
     "data": {
      "text/html": [
       "<div>\n",
       "<style scoped>\n",
       "    .dataframe tbody tr th:only-of-type {\n",
       "        vertical-align: middle;\n",
       "    }\n",
       "\n",
       "    .dataframe tbody tr th {\n",
       "        vertical-align: top;\n",
       "    }\n",
       "\n",
       "    .dataframe thead th {\n",
       "        text-align: right;\n",
       "    }\n",
       "</style>\n",
       "<table border=\"1\" class=\"dataframe\">\n",
       "  <thead>\n",
       "    <tr style=\"text-align: right;\">\n",
       "      <th></th>\n",
       "      <th></th>\n",
       "      <th>campaign_count</th>\n",
       "    </tr>\n",
       "    <tr>\n",
       "      <th>date</th>\n",
       "      <th>campaign_union_id</th>\n",
       "      <th></th>\n",
       "    </tr>\n",
       "  </thead>\n",
       "  <tbody>\n",
       "    <tr>\n",
       "      <th>2019-04-05</th>\n",
       "      <th>112260</th>\n",
       "      <td>2166611</td>\n",
       "    </tr>\n",
       "    <tr>\n",
       "      <th>2019-04-06</th>\n",
       "      <th>112260</th>\n",
       "      <td>348613</td>\n",
       "    </tr>\n",
       "    <tr>\n",
       "      <th>2019-04-03</th>\n",
       "      <th>104798</th>\n",
       "      <td>94554</td>\n",
       "    </tr>\n",
       "    <tr>\n",
       "      <th>2019-04-05</th>\n",
       "      <th>29901</th>\n",
       "      <td>27186</td>\n",
       "    </tr>\n",
       "    <tr>\n",
       "      <th>2019-04-03</th>\n",
       "      <th>102535</th>\n",
       "      <td>18893</td>\n",
       "    </tr>\n",
       "    <tr>\n",
       "      <th>...</th>\n",
       "      <th>...</th>\n",
       "      <td>...</td>\n",
       "    </tr>\n",
       "    <tr>\n",
       "      <th rowspan=\"2\" valign=\"top\">2019-04-02</th>\n",
       "      <th>113192</th>\n",
       "      <td>3</td>\n",
       "    </tr>\n",
       "    <tr>\n",
       "      <th>25663</th>\n",
       "      <td>3</td>\n",
       "    </tr>\n",
       "    <tr>\n",
       "      <th>2019-04-01</th>\n",
       "      <th>41424</th>\n",
       "      <td>2</td>\n",
       "    </tr>\n",
       "    <tr>\n",
       "      <th rowspan=\"2\" valign=\"top\">2019-04-02</th>\n",
       "      <th>46363</th>\n",
       "      <td>2</td>\n",
       "    </tr>\n",
       "    <tr>\n",
       "      <th>120440</th>\n",
       "      <td>1</td>\n",
       "    </tr>\n",
       "  </tbody>\n",
       "</table>\n",
       "<p>709 rows × 1 columns</p>\n",
       "</div>"
      ],
      "text/plain": [
       "                              campaign_count\n",
       "date       campaign_union_id                \n",
       "2019-04-05 112260                    2166611\n",
       "2019-04-06 112260                     348613\n",
       "2019-04-03 104798                      94554\n",
       "2019-04-05 29901                       27186\n",
       "2019-04-03 102535                      18893\n",
       "...                                      ...\n",
       "2019-04-02 113192                          3\n",
       "           25663                           3\n",
       "2019-04-01 41424                           2\n",
       "2019-04-02 46363                           2\n",
       "           120440                          1\n",
       "\n",
       "[709 rows x 1 columns]"
      ]
     },
     "execution_count": 13,
     "metadata": {},
     "output_type": "execute_result"
    }
   ],
   "source": [
    "ads_data.groupby(['date', 'campaign_union_id']) \\\n",
    "        .aggregate({'time': 'count'}) \\\n",
    "        .rename(columns={'time': 'campaign_count'}) \\\n",
    "        .sort_values('campaign_count', ascending=False)"
   ]
  },
  {
   "cell_type": "code",
   "execution_count": 14,
   "metadata": {},
   "outputs": [
    {
     "data": {
      "text/html": [
       "<div>\n",
       "<style scoped>\n",
       "    .dataframe tbody tr th:only-of-type {\n",
       "        vertical-align: middle;\n",
       "    }\n",
       "\n",
       "    .dataframe tbody tr th {\n",
       "        vertical-align: top;\n",
       "    }\n",
       "\n",
       "    .dataframe thead th {\n",
       "        text-align: right;\n",
       "    }\n",
       "</style>\n",
       "<table border=\"1\" class=\"dataframe\">\n",
       "  <thead>\n",
       "    <tr style=\"text-align: right;\">\n",
       "      <th></th>\n",
       "      <th>time</th>\n",
       "    </tr>\n",
       "    <tr>\n",
       "      <th>ad_id</th>\n",
       "      <th></th>\n",
       "    </tr>\n",
       "  </thead>\n",
       "  <tbody>\n",
       "    <tr>\n",
       "      <th>112583</th>\n",
       "      <td>2166611</td>\n",
       "    </tr>\n",
       "    <tr>\n",
       "      <th>29927</th>\n",
       "      <td>27186</td>\n",
       "    </tr>\n",
       "    <tr>\n",
       "      <th>44635</th>\n",
       "      <td>8268</td>\n",
       "    </tr>\n",
       "    <tr>\n",
       "      <th>46583</th>\n",
       "      <td>7327</td>\n",
       "    </tr>\n",
       "    <tr>\n",
       "      <th>44956</th>\n",
       "      <td>5656</td>\n",
       "    </tr>\n",
       "    <tr>\n",
       "      <th>...</th>\n",
       "      <td>...</td>\n",
       "    </tr>\n",
       "    <tr>\n",
       "      <th>46433</th>\n",
       "      <td>17</td>\n",
       "    </tr>\n",
       "    <tr>\n",
       "      <th>21405</th>\n",
       "      <td>16</td>\n",
       "    </tr>\n",
       "    <tr>\n",
       "      <th>46024</th>\n",
       "      <td>16</td>\n",
       "    </tr>\n",
       "    <tr>\n",
       "      <th>113867</th>\n",
       "      <td>15</td>\n",
       "    </tr>\n",
       "    <tr>\n",
       "      <th>111067</th>\n",
       "      <td>14</td>\n",
       "    </tr>\n",
       "  </tbody>\n",
       "</table>\n",
       "<p>131 rows × 1 columns</p>\n",
       "</div>"
      ],
      "text/plain": [
       "           time\n",
       "ad_id          \n",
       "112583  2166611\n",
       "29927     27186\n",
       "44635      8268\n",
       "46583      7327\n",
       "44956      5656\n",
       "...         ...\n",
       "46433        17\n",
       "21405        16\n",
       "46024        16\n",
       "113867       15\n",
       "111067       14\n",
       "\n",
       "[131 rows x 1 columns]"
      ]
     },
     "execution_count": 14,
     "metadata": {},
     "output_type": "execute_result"
    }
   ],
   "source": [
    "'''здесь видно сразу, что около 90% всех показов занимает одно объявление, \n",
    "но также можно посмотреть разбивку объявления по дню конкретному''' \n",
    "\n",
    "ads_data[ads_data.date == '2019-04-05'] \\\n",
    "    .groupby('ad_id') \\\n",
    "    .agg({'time': 'count'}) \\\n",
    "    .sort_values('time', ascending=False)"
   ]
  },
  {
   "cell_type": "code",
   "execution_count": 15,
   "metadata": {},
   "outputs": [],
   "source": [
    "ad_id = 112583"
   ]
  },
  {
   "cell_type": "markdown",
   "metadata": {},
   "source": [
    "Видим скачок у компании с id `112260` 5 и 6 апреля и аналогично у объявления с id `112583`"
   ]
  },
  {
   "cell_type": "code",
   "execution_count": 16,
   "metadata": {
    "scrolled": false
   },
   "outputs": [
    {
     "data": {
      "text/html": [
       "<div>\n",
       "<style scoped>\n",
       "    .dataframe tbody tr th:only-of-type {\n",
       "        vertical-align: middle;\n",
       "    }\n",
       "\n",
       "    .dataframe tbody tr th {\n",
       "        vertical-align: top;\n",
       "    }\n",
       "\n",
       "    .dataframe thead th {\n",
       "        text-align: right;\n",
       "    }\n",
       "</style>\n",
       "<table border=\"1\" class=\"dataframe\">\n",
       "  <thead>\n",
       "    <tr style=\"text-align: right;\">\n",
       "      <th></th>\n",
       "      <th>time</th>\n",
       "    </tr>\n",
       "    <tr>\n",
       "      <th>date</th>\n",
       "      <th></th>\n",
       "    </tr>\n",
       "  </thead>\n",
       "  <tbody>\n",
       "    <tr>\n",
       "      <th>2019-04-05</th>\n",
       "      <td>2166611</td>\n",
       "    </tr>\n",
       "    <tr>\n",
       "      <th>2019-04-06</th>\n",
       "      <td>348613</td>\n",
       "    </tr>\n",
       "  </tbody>\n",
       "</table>\n",
       "</div>"
      ],
      "text/plain": [
       "               time\n",
       "date               \n",
       "2019-04-05  2166611\n",
       "2019-04-06   348613"
      ]
     },
     "execution_count": 16,
     "metadata": {},
     "output_type": "execute_result"
    }
   ],
   "source": [
    "# можно также посмотреть сколько вообще объявление висит, может, оно аномально появилось и исчезло\n",
    "ads_data.query('ad_id == @ad_id') \\\n",
    "        .groupby('date') \\\n",
    "        .agg({'time': 'count'})"
   ]
  },
  {
   "cell_type": "markdown",
   "metadata": {},
   "source": [
    "Найти топ 10 объявлений по CTR за все время. CTR — это отношение всех кликов объявлений к просмотрам. Например, если у объявления было 100 показов и 2 клика, CTR = 0.02. Различается ли средний и медианный CTR объявлений в наших данных?"
   ]
  },
  {
   "cell_type": "code",
   "execution_count": 17,
   "metadata": {},
   "outputs": [],
   "source": [
    "ads_data_by_ad = ads_data.groupby(['ad_id', 'event'], as_index=False) \\\n",
    "    .agg({'time': 'count'}) \\\n",
    "    .pivot_table(index='ad_id', columns='event', values='time').reset_index()"
   ]
  },
  {
   "cell_type": "code",
   "execution_count": 18,
   "metadata": {},
   "outputs": [],
   "source": [
    "ads_data_by_ad = ads_data_by_ad.assign(ctr = ads_data_by_ad.click / ads_data_by_ad.view, \n",
    "                           ctr_per = 100 * ads_data_by_ad.click / ads_data_by_ad.view)"
   ]
  },
  {
   "cell_type": "code",
   "execution_count": 19,
   "metadata": {},
   "outputs": [
    {
     "data": {
      "text/plain": [
       "0.020628096080757954"
      ]
     },
     "execution_count": 19,
     "metadata": {},
     "output_type": "execute_result"
    }
   ],
   "source": [
    "ads_data_by_ad.ctr.mean()"
   ]
  },
  {
   "cell_type": "code",
   "execution_count": 20,
   "metadata": {},
   "outputs": [
    {
     "data": {
      "text/plain": [
       "0.010753240746688594"
      ]
     },
     "execution_count": 20,
     "metadata": {},
     "output_type": "execute_result"
    }
   ],
   "source": [
    "ads_data_by_ad.ctr.median()"
   ]
  },
  {
   "cell_type": "code",
   "execution_count": 21,
   "metadata": {
    "scrolled": true
   },
   "outputs": [
    {
     "name": "stderr",
     "output_type": "stream",
     "text": [
      "/opt/tljh/user/lib/python3.7/site-packages/seaborn/distributions.py:2557: FutureWarning: `distplot` is a deprecated function and will be removed in a future version. Please adapt your code to use either `displot` (a figure-level function with similar flexibility) or `histplot` (an axes-level function for histograms).\n",
      "  warnings.warn(msg, FutureWarning)\n"
     ]
    },
    {
     "data": {
      "text/plain": [
       "<matplotlib.axes._subplots.AxesSubplot at 0x7fd2dffc1a58>"
      ]
     },
     "execution_count": 21,
     "metadata": {},
     "output_type": "execute_result"
    },
    {
     "data": {
      "image/png": "[encoded data removed]",
      "text/plain": [
       "<Figure size 432x288 with 1 Axes>"
      ]
     },
     "metadata": {
      "needs_background": "light"
     },
     "output_type": "display_data"
    }
   ],
   "source": [
    "sns.distplot(ads_data_by_ad.ctr, kde=False)"
   ]
  },
  {
   "cell_type": "markdown",
   "metadata": {},
   "source": [
    "Похоже, в наших логах есть баг, объявления приходят с кликами, но без показов! Сколько таких объявлений, есть ли какие-то закономерности? Эта проблема наблюдается на всех платформах?"
   ]
  },
  {
   "cell_type": "code",
   "execution_count": 22,
   "metadata": {},
   "outputs": [],
   "source": [
    "ads_data_by_ad = ads_data_by_ad.fillna(0)"
   ]
  },
  {
   "cell_type": "code",
   "execution_count": 23,
   "metadata": {},
   "outputs": [],
   "source": [
    "ads_ids_bug = ads_data_by_ad.query('view == 0').ad_id"
   ]
  },
  {
   "cell_type": "code",
   "execution_count": 24,
   "metadata": {},
   "outputs": [
    {
     "data": {
      "text/html": [
       "<div>\n",
       "<style scoped>\n",
       "    .dataframe tbody tr th:only-of-type {\n",
       "        vertical-align: middle;\n",
       "    }\n",
       "\n",
       "    .dataframe tbody tr th {\n",
       "        vertical-align: top;\n",
       "    }\n",
       "\n",
       "    .dataframe thead th {\n",
       "        text-align: right;\n",
       "    }\n",
       "</style>\n",
       "<table border=\"1\" class=\"dataframe\">\n",
       "  <thead>\n",
       "    <tr style=\"text-align: right;\">\n",
       "      <th></th>\n",
       "      <th>platform</th>\n",
       "      <th>ad_id</th>\n",
       "    </tr>\n",
       "  </thead>\n",
       "  <tbody>\n",
       "    <tr>\n",
       "      <th>2</th>\n",
       "      <td>web</td>\n",
       "      <td>53</td>\n",
       "    </tr>\n",
       "    <tr>\n",
       "      <th>1</th>\n",
       "      <td>ios</td>\n",
       "      <td>92</td>\n",
       "    </tr>\n",
       "    <tr>\n",
       "      <th>0</th>\n",
       "      <td>android</td>\n",
       "      <td>141</td>\n",
       "    </tr>\n",
       "  </tbody>\n",
       "</table>\n",
       "</div>"
      ],
      "text/plain": [
       "  platform  ad_id\n",
       "2      web     53\n",
       "1      ios     92\n",
       "0  android    141"
      ]
     },
     "execution_count": 24,
     "metadata": {},
     "output_type": "execute_result"
    }
   ],
   "source": [
    "ads_data[ads_data.ad_id.isin(ads_ids_bug)] \\\n",
    "    .groupby('platform', as_index=False) \\\n",
    "    .agg({'ad_id': 'count'}) \\\n",
    "    .sort_values('ad_id')"
   ]
  },
  {
   "cell_type": "code",
   "execution_count": 25,
   "metadata": {},
   "outputs": [
    {
     "data": {
      "text/html": [
       "<div>\n",
       "<style scoped>\n",
       "    .dataframe tbody tr th:only-of-type {\n",
       "        vertical-align: middle;\n",
       "    }\n",
       "\n",
       "    .dataframe tbody tr th {\n",
       "        vertical-align: top;\n",
       "    }\n",
       "\n",
       "    .dataframe thead th {\n",
       "        text-align: right;\n",
       "    }\n",
       "</style>\n",
       "<table border=\"1\" class=\"dataframe\">\n",
       "  <thead>\n",
       "    <tr style=\"text-align: right;\">\n",
       "      <th></th>\n",
       "      <th>platform</th>\n",
       "      <th>ad_id</th>\n",
       "    </tr>\n",
       "  </thead>\n",
       "  <tbody>\n",
       "    <tr>\n",
       "      <th>2</th>\n",
       "      <td>web</td>\n",
       "      <td>635425</td>\n",
       "    </tr>\n",
       "    <tr>\n",
       "      <th>1</th>\n",
       "      <td>ios</td>\n",
       "      <td>953078</td>\n",
       "    </tr>\n",
       "    <tr>\n",
       "      <th>0</th>\n",
       "      <td>android</td>\n",
       "      <td>1588211</td>\n",
       "    </tr>\n",
       "  </tbody>\n",
       "</table>\n",
       "</div>"
      ],
      "text/plain": [
       "  platform    ad_id\n",
       "2      web   635425\n",
       "1      ios   953078\n",
       "0  android  1588211"
      ]
     },
     "execution_count": 25,
     "metadata": {},
     "output_type": "execute_result"
    }
   ],
   "source": [
    "ads_data \\\n",
    "    .groupby('platform', as_index=False) \\\n",
    "    .agg({'ad_id': 'count'}) \\\n",
    "    .sort_values('ad_id')"
   ]
  },
  {
   "cell_type": "markdown",
   "metadata": {},
   "source": [
    "Есть ли различия в CTR у объявлений с видео и без? А чему равняется 95 процентиль CTR по всем объявлениям за `2019-04-04`?"
   ]
  },
  {
   "cell_type": "code",
   "execution_count": 26,
   "metadata": {},
   "outputs": [
    {
     "data": {
      "text/plain": [
       "0.22750243695763897"
      ]
     },
     "execution_count": 26,
     "metadata": {},
     "output_type": "execute_result"
    }
   ],
   "source": [
    "# CTR без видео\n",
    "len(ads_data.query('(has_video == 0) & (event == \"click\")')) / len(ads_data.query('(has_video == 0) & (event == \"view\")'))"
   ]
  },
  {
   "cell_type": "code",
   "execution_count": 27,
   "metadata": {},
   "outputs": [
    {
     "data": {
      "text/plain": [
       "0.0036424768842813113"
      ]
     },
     "execution_count": 27,
     "metadata": {},
     "output_type": "execute_result"
    }
   ],
   "source": [
    "# CTR с видео\n",
    "len(ads_data.query('(has_video == 1) & (event == \"click\")')) / len(ads_data.query('(has_video == 1) & (event == \"view\")'))"
   ]
  },
  {
   "cell_type": "code",
   "execution_count": 28,
   "metadata": {},
   "outputs": [],
   "source": [
    "# Как будто различия имеются..."
   ]
  },
  {
   "cell_type": "code",
   "execution_count": 29,
   "metadata": {},
   "outputs": [],
   "source": [
    "df_04_04 = ads_data[ads_data.date == '2019-04-04'].groupby(['ad_id', 'event'], as_index=False) \\\n",
    "    .agg({'time': 'count'}) \\\n",
    "    .pivot_table(index='ad_id', columns='event', values='time').reset_index() \\\n",
    "    .fillna(0)"
   ]
  },
  {
   "cell_type": "code",
   "execution_count": 30,
   "metadata": {},
   "outputs": [
    {
     "data": {
      "text/html": [
       "<div>\n",
       "<style scoped>\n",
       "    .dataframe tbody tr th:only-of-type {\n",
       "        vertical-align: middle;\n",
       "    }\n",
       "\n",
       "    .dataframe tbody tr th {\n",
       "        vertical-align: top;\n",
       "    }\n",
       "\n",
       "    .dataframe thead th {\n",
       "        text-align: right;\n",
       "    }\n",
       "</style>\n",
       "<table border=\"1\" class=\"dataframe\">\n",
       "  <thead>\n",
       "    <tr style=\"text-align: right;\">\n",
       "      <th>event</th>\n",
       "      <th>ad_id</th>\n",
       "      <th>click</th>\n",
       "      <th>view</th>\n",
       "      <th>ctr</th>\n",
       "    </tr>\n",
       "  </thead>\n",
       "  <tbody>\n",
       "    <tr>\n",
       "      <th>0</th>\n",
       "      <td>9071</td>\n",
       "      <td>3.0</td>\n",
       "      <td>352.0</td>\n",
       "      <td>0.008523</td>\n",
       "    </tr>\n",
       "    <tr>\n",
       "      <th>1</th>\n",
       "      <td>9776</td>\n",
       "      <td>37.0</td>\n",
       "      <td>1115.0</td>\n",
       "      <td>0.033184</td>\n",
       "    </tr>\n",
       "    <tr>\n",
       "      <th>2</th>\n",
       "      <td>10601</td>\n",
       "      <td>3.0</td>\n",
       "      <td>848.0</td>\n",
       "      <td>0.003538</td>\n",
       "    </tr>\n",
       "    <tr>\n",
       "      <th>3</th>\n",
       "      <td>11887</td>\n",
       "      <td>151.0</td>\n",
       "      <td>8720.0</td>\n",
       "      <td>0.017317</td>\n",
       "    </tr>\n",
       "    <tr>\n",
       "      <th>4</th>\n",
       "      <td>12137</td>\n",
       "      <td>1.0</td>\n",
       "      <td>170.0</td>\n",
       "      <td>0.005882</td>\n",
       "    </tr>\n",
       "    <tr>\n",
       "      <th>...</th>\n",
       "      <td>...</td>\n",
       "      <td>...</td>\n",
       "      <td>...</td>\n",
       "      <td>...</td>\n",
       "    </tr>\n",
       "    <tr>\n",
       "      <th>145</th>\n",
       "      <td>120790</td>\n",
       "      <td>0.0</td>\n",
       "      <td>19.0</td>\n",
       "      <td>0.000000</td>\n",
       "    </tr>\n",
       "    <tr>\n",
       "      <th>146</th>\n",
       "      <td>121779</td>\n",
       "      <td>68.0</td>\n",
       "      <td>1116.0</td>\n",
       "      <td>0.060932</td>\n",
       "    </tr>\n",
       "    <tr>\n",
       "      <th>147</th>\n",
       "      <td>121790</td>\n",
       "      <td>7.0</td>\n",
       "      <td>701.0</td>\n",
       "      <td>0.009986</td>\n",
       "    </tr>\n",
       "    <tr>\n",
       "      <th>148</th>\n",
       "      <td>121941</td>\n",
       "      <td>0.0</td>\n",
       "      <td>95.0</td>\n",
       "      <td>0.000000</td>\n",
       "    </tr>\n",
       "    <tr>\n",
       "      <th>149</th>\n",
       "      <td>122063</td>\n",
       "      <td>0.0</td>\n",
       "      <td>48.0</td>\n",
       "      <td>0.000000</td>\n",
       "    </tr>\n",
       "  </tbody>\n",
       "</table>\n",
       "<p>150 rows × 4 columns</p>\n",
       "</div>"
      ],
      "text/plain": [
       "event   ad_id  click    view       ctr\n",
       "0        9071    3.0   352.0  0.008523\n",
       "1        9776   37.0  1115.0  0.033184\n",
       "2       10601    3.0   848.0  0.003538\n",
       "3       11887  151.0  8720.0  0.017317\n",
       "4       12137    1.0   170.0  0.005882\n",
       "..        ...    ...     ...       ...\n",
       "145    120790    0.0    19.0  0.000000\n",
       "146    121779   68.0  1116.0  0.060932\n",
       "147    121790    7.0   701.0  0.009986\n",
       "148    121941    0.0    95.0  0.000000\n",
       "149    122063    0.0    48.0  0.000000\n",
       "\n",
       "[150 rows x 4 columns]"
      ]
     },
     "execution_count": 30,
     "metadata": {},
     "output_type": "execute_result"
    }
   ],
   "source": [
    "df_04_04 = df_04_04.assign(ctr = df_04_04.click / df_04_04.view)\n",
    "\n",
    "df_04_04"
   ]
  },
  {
   "cell_type": "code",
   "execution_count": 31,
   "metadata": {},
   "outputs": [
    {
     "data": {
      "text/plain": [
       "0.10211538461538454"
      ]
     },
     "execution_count": 31,
     "metadata": {},
     "output_type": "execute_result"
    }
   ],
   "source": [
    "df_04_04[df_04_04.ctr > 0].ctr.quantile(0.95)"
   ]
  },
  {
   "cell_type": "markdown",
   "metadata": {},
   "source": [
    "Для финансового отчета нужно рассчитать наш заработок по дням. В какой день мы заработали больше всего? В какой меньше? Мы списываем с клиентов деньги, если произошел клик по CPC объявлению, и мы списываем деньги за каждый показ CPM объявления, если у CPM объявления цена 200 рублей, то за один показ мы зарабатываем 200 / 1000."
   ]
  },
  {
   "cell_type": "code",
   "execution_count": 32,
   "metadata": {},
   "outputs": [],
   "source": [
    "CPM_data_cost = ads_data[(ads_data.ad_cost_type == 'CPM') & (ads_data.event == 'view')].groupby('date') \\\n",
    "    .ad_cost.sum() / 1000\n",
    "CPC_data_cost = ads_data[(ads_data.ad_cost_type == 'CPC') & (ads_data.event == 'click')].groupby('date') \\\n",
    "    .ad_cost.sum() "
   ]
  },
  {
   "cell_type": "code",
   "execution_count": 33,
   "metadata": {
    "scrolled": true
   },
   "outputs": [],
   "source": [
    "CPM_data_cost = pd.DataFrame(CPM_data_cost).rename(columns={'ad_cost': 'CPM_cost'}).reset_index()\n",
    "CPC_data_cost = pd.DataFrame(CPC_data_cost).rename(columns={'ad_cost': 'CPC_cost'}).reset_index()"
   ]
  },
  {
   "cell_type": "code",
   "execution_count": 34,
   "metadata": {},
   "outputs": [
    {
     "data": {
      "text/html": [
       "<style  type=\"text/css\" >\n",
       "#T_6f075f38_642a_11ee_bdbb_96000040dfb6row4_col1{\n",
       "            background-color:  pink;\n",
       "        }#T_6f075f38_642a_11ee_bdbb_96000040dfb6row4_col3{\n",
       "            background-color:  lightgreen;\n",
       "        }</style><table id=\"T_6f075f38_642a_11ee_bdbb_96000040dfb6\" ><thead>    <tr>        <th class=\"blank level0\" ></th>        <th class=\"col_heading level0 col0\" >date</th>        <th class=\"col_heading level0 col1\" >CPM_cost</th>        <th class=\"col_heading level0 col2\" >CPC_cost</th>        <th class=\"col_heading level0 col3\" >total_cost</th>    </tr></thead><tbody>\n",
       "                <tr>\n",
       "                        <th id=\"T_6f075f38_642a_11ee_bdbb_96000040dfb6level0_row0\" class=\"row_heading level0 row0\" >0</th>\n",
       "                        <td id=\"T_6f075f38_642a_11ee_bdbb_96000040dfb6row0_col0\" class=\"data row0 col0\" >2019-04-01 00:00:00</td>\n",
       "                        <td id=\"T_6f075f38_642a_11ee_bdbb_96000040dfb6row0_col1\" class=\"data row0 col1\" >6122.812300</td>\n",
       "                        <td id=\"T_6f075f38_642a_11ee_bdbb_96000040dfb6row0_col2\" class=\"data row0 col2\" >7036.900000</td>\n",
       "                        <td id=\"T_6f075f38_642a_11ee_bdbb_96000040dfb6row0_col3\" class=\"data row0 col3\" >13159.712300</td>\n",
       "            </tr>\n",
       "            <tr>\n",
       "                        <th id=\"T_6f075f38_642a_11ee_bdbb_96000040dfb6level0_row1\" class=\"row_heading level0 row1\" >1</th>\n",
       "                        <td id=\"T_6f075f38_642a_11ee_bdbb_96000040dfb6row1_col0\" class=\"data row1 col0\" >2019-04-02 00:00:00</td>\n",
       "                        <td id=\"T_6f075f38_642a_11ee_bdbb_96000040dfb6row1_col1\" class=\"data row1 col1\" >26173.305100</td>\n",
       "                        <td id=\"T_6f075f38_642a_11ee_bdbb_96000040dfb6row1_col2\" class=\"data row1 col2\" >7663.700000</td>\n",
       "                        <td id=\"T_6f075f38_642a_11ee_bdbb_96000040dfb6row1_col3\" class=\"data row1 col3\" >33837.005100</td>\n",
       "            </tr>\n",
       "            <tr>\n",
       "                        <th id=\"T_6f075f38_642a_11ee_bdbb_96000040dfb6level0_row2\" class=\"row_heading level0 row2\" >2</th>\n",
       "                        <td id=\"T_6f075f38_642a_11ee_bdbb_96000040dfb6row2_col0\" class=\"data row2 col0\" >2019-04-03 00:00:00</td>\n",
       "                        <td id=\"T_6f075f38_642a_11ee_bdbb_96000040dfb6row2_col1\" class=\"data row2 col1\" >34612.317000</td>\n",
       "                        <td id=\"T_6f075f38_642a_11ee_bdbb_96000040dfb6row2_col2\" class=\"data row2 col2\" >38597.200000</td>\n",
       "                        <td id=\"T_6f075f38_642a_11ee_bdbb_96000040dfb6row2_col3\" class=\"data row2 col3\" >73209.517000</td>\n",
       "            </tr>\n",
       "            <tr>\n",
       "                        <th id=\"T_6f075f38_642a_11ee_bdbb_96000040dfb6level0_row3\" class=\"row_heading level0 row3\" >3</th>\n",
       "                        <td id=\"T_6f075f38_642a_11ee_bdbb_96000040dfb6row3_col0\" class=\"data row3 col0\" >2019-04-04 00:00:00</td>\n",
       "                        <td id=\"T_6f075f38_642a_11ee_bdbb_96000040dfb6row3_col1\" class=\"data row3 col1\" >19416.356800</td>\n",
       "                        <td id=\"T_6f075f38_642a_11ee_bdbb_96000040dfb6row3_col2\" class=\"data row3 col2\" >26878.000000</td>\n",
       "                        <td id=\"T_6f075f38_642a_11ee_bdbb_96000040dfb6row3_col3\" class=\"data row3 col3\" >46294.356800</td>\n",
       "            </tr>\n",
       "            <tr>\n",
       "                        <th id=\"T_6f075f38_642a_11ee_bdbb_96000040dfb6level0_row4\" class=\"row_heading level0 row4\" >4</th>\n",
       "                        <td id=\"T_6f075f38_642a_11ee_bdbb_96000040dfb6row4_col0\" class=\"data row4 col0\" >2019-04-05 00:00:00</td>\n",
       "                        <td id=\"T_6f075f38_642a_11ee_bdbb_96000040dfb6row4_col1\" class=\"data row4 col1\" >354178.548996</td>\n",
       "                        <td id=\"T_6f075f38_642a_11ee_bdbb_96000040dfb6row4_col2\" class=\"data row4 col2\" >4381.200000</td>\n",
       "                        <td id=\"T_6f075f38_642a_11ee_bdbb_96000040dfb6row4_col3\" class=\"data row4 col3\" >358559.748996</td>\n",
       "            </tr>\n",
       "            <tr>\n",
       "                        <th id=\"T_6f075f38_642a_11ee_bdbb_96000040dfb6level0_row5\" class=\"row_heading level0 row5\" >5</th>\n",
       "                        <td id=\"T_6f075f38_642a_11ee_bdbb_96000040dfb6row5_col0\" class=\"data row5 col0\" >2019-04-06 00:00:00</td>\n",
       "                        <td id=\"T_6f075f38_642a_11ee_bdbb_96000040dfb6row5_col1\" class=\"data row5 col1\" >56587.337600</td>\n",
       "                        <td id=\"T_6f075f38_642a_11ee_bdbb_96000040dfb6row5_col2\" class=\"data row5 col2\" >253.000000</td>\n",
       "                        <td id=\"T_6f075f38_642a_11ee_bdbb_96000040dfb6row5_col3\" class=\"data row5 col3\" >56840.337600</td>\n",
       "            </tr>\n",
       "    </tbody></table>"
      ],
      "text/plain": [
       "<pandas.io.formats.style.Styler at 0x7fd2dfecb630>"
      ]
     },
     "execution_count": 34,
     "metadata": {},
     "output_type": "execute_result"
    }
   ],
   "source": [
    "data_cost = CPM_data_cost.merge(CPC_data_cost, on='date')\n",
    "data_cost['total_cost'] = data_cost['CPM_cost'] + data_cost['CPC_cost']\n",
    "\n",
    "data_cost.style.highlight_max(subset='total_cost', color='lightgreen') \\\n",
    "    .highlight_max(subset='CPM_cost', color='pink')"
   ]
  },
  {
   "cell_type": "markdown",
   "metadata": {},
   "source": [
    "Какая платформа самая популярная для размещения рекламных объявлений? Сколько процентов показов приходится на каждую из платформ (колонка platform)?"
   ]
  },
  {
   "cell_type": "code",
   "execution_count": 35,
   "metadata": {
    "scrolled": true
   },
   "outputs": [
    {
     "data": {
      "text/html": [
       "<div>\n",
       "<style scoped>\n",
       "    .dataframe tbody tr th:only-of-type {\n",
       "        vertical-align: middle;\n",
       "    }\n",
       "\n",
       "    .dataframe tbody tr th {\n",
       "        vertical-align: top;\n",
       "    }\n",
       "\n",
       "    .dataframe thead th {\n",
       "        text-align: right;\n",
       "    }\n",
       "</style>\n",
       "<table border=\"1\" class=\"dataframe\">\n",
       "  <thead>\n",
       "    <tr style=\"text-align: right;\">\n",
       "      <th></th>\n",
       "      <th>platform</th>\n",
       "      <th>ad_id</th>\n",
       "    </tr>\n",
       "  </thead>\n",
       "  <tbody>\n",
       "    <tr>\n",
       "      <th>2</th>\n",
       "      <td>web</td>\n",
       "      <td>635425</td>\n",
       "    </tr>\n",
       "    <tr>\n",
       "      <th>1</th>\n",
       "      <td>ios</td>\n",
       "      <td>953078</td>\n",
       "    </tr>\n",
       "    <tr>\n",
       "      <th>0</th>\n",
       "      <td>android</td>\n",
       "      <td>1588211</td>\n",
       "    </tr>\n",
       "  </tbody>\n",
       "</table>\n",
       "</div>"
      ],
      "text/plain": [
       "  platform    ad_id\n",
       "2      web   635425\n",
       "1      ios   953078\n",
       "0  android  1588211"
      ]
     },
     "execution_count": 35,
     "metadata": {},
     "output_type": "execute_result"
    }
   ],
   "source": [
    "# Самая популярная платформа уже затрагивалась выше \n",
    "\n",
    "ads_data \\\n",
    "    .groupby('platform', as_index=False) \\\n",
    "    .agg({'ad_id': 'count'}) \\\n",
    "    .sort_values('ad_id')"
   ]
  },
  {
   "cell_type": "code",
   "execution_count": 36,
   "metadata": {},
   "outputs": [],
   "source": [
    "ads_data_platform = ads_data \\\n",
    "    .groupby(['platform', 'event'], as_index=False) \\\n",
    "    .agg({'ad_id':'count'}) \\\n",
    "    .pivot(index='platform', columns='event', values='ad_id').reset_index()"
   ]
  },
  {
   "cell_type": "code",
   "execution_count": 37,
   "metadata": {},
   "outputs": [
    {
     "data": {
      "text/html": [
       "<div>\n",
       "<style scoped>\n",
       "    .dataframe tbody tr th:only-of-type {\n",
       "        vertical-align: middle;\n",
       "    }\n",
       "\n",
       "    .dataframe tbody tr th {\n",
       "        vertical-align: top;\n",
       "    }\n",
       "\n",
       "    .dataframe thead th {\n",
       "        text-align: right;\n",
       "    }\n",
       "</style>\n",
       "<table border=\"1\" class=\"dataframe\">\n",
       "  <thead>\n",
       "    <tr style=\"text-align: right;\">\n",
       "      <th>event</th>\n",
       "      <th>platform</th>\n",
       "      <th>click</th>\n",
       "      <th>view</th>\n",
       "      <th>click_per</th>\n",
       "      <th>view_per</th>\n",
       "    </tr>\n",
       "  </thead>\n",
       "  <tbody>\n",
       "    <tr>\n",
       "      <th>0</th>\n",
       "      <td>android</td>\n",
       "      <td>293022</td>\n",
       "      <td>1295189</td>\n",
       "      <td>50.021763</td>\n",
       "      <td>49.879226</td>\n",
       "    </tr>\n",
       "    <tr>\n",
       "      <th>1</th>\n",
       "      <td>ios</td>\n",
       "      <td>176964</td>\n",
       "      <td>776114</td>\n",
       "      <td>29.974460</td>\n",
       "      <td>30.123429</td>\n",
       "    </tr>\n",
       "    <tr>\n",
       "      <th>2</th>\n",
       "      <td>web</td>\n",
       "      <td>117477</td>\n",
       "      <td>517948</td>\n",
       "      <td>20.003777</td>\n",
       "      <td>19.997345</td>\n",
       "    </tr>\n",
       "  </tbody>\n",
       "</table>\n",
       "</div>"
      ],
      "text/plain": [
       "event platform   click     view  click_per   view_per\n",
       "0      android  293022  1295189  50.021763  49.879226\n",
       "1          ios  176964   776114  29.974460  30.123429\n",
       "2          web  117477   517948  20.003777  19.997345"
      ]
     },
     "execution_count": 37,
     "metadata": {},
     "output_type": "execute_result"
    }
   ],
   "source": [
    "ads_data_platform.assign(click_per=ads_data_platform.view/ads_data_platform.view.sum()*100,\n",
    "                        view_per=ads_data_platform.click/ads_data_platform.click.sum()*100)"
   ]
  },
  {
   "cell_type": "markdown",
   "metadata": {},
   "source": [
    "А есть ли такие объявления, по которым сначала произошел клик, а только потом показ?"
   ]
  },
  {
   "cell_type": "code",
   "execution_count": 38,
   "metadata": {},
   "outputs": [
    {
     "data": {
      "text/html": [
       "<div>\n",
       "<style scoped>\n",
       "    .dataframe tbody tr th:only-of-type {\n",
       "        vertical-align: middle;\n",
       "    }\n",
       "\n",
       "    .dataframe tbody tr th {\n",
       "        vertical-align: top;\n",
       "    }\n",
       "\n",
       "    .dataframe thead th {\n",
       "        text-align: right;\n",
       "    }\n",
       "</style>\n",
       "<table border=\"1\" class=\"dataframe\">\n",
       "  <thead>\n",
       "    <tr style=\"text-align: right;\">\n",
       "      <th>event</th>\n",
       "      <th>ad_id</th>\n",
       "      <th>click</th>\n",
       "      <th>view</th>\n",
       "    </tr>\n",
       "  </thead>\n",
       "  <tbody>\n",
       "    <tr>\n",
       "      <th>27</th>\n",
       "      <td>16548</td>\n",
       "      <td>1.554336e+09</td>\n",
       "      <td>1.554336e+09</td>\n",
       "    </tr>\n",
       "    <tr>\n",
       "      <th>81</th>\n",
       "      <td>30939</td>\n",
       "      <td>1.554165e+09</td>\n",
       "      <td>1.554173e+09</td>\n",
       "    </tr>\n",
       "    <tr>\n",
       "      <th>138</th>\n",
       "      <td>40464</td>\n",
       "      <td>1.554164e+09</td>\n",
       "      <td>1.554164e+09</td>\n",
       "    </tr>\n",
       "    <tr>\n",
       "      <th>158</th>\n",
       "      <td>42007</td>\n",
       "      <td>1.554423e+09</td>\n",
       "      <td>1.554423e+09</td>\n",
       "    </tr>\n",
       "    <tr>\n",
       "      <th>185</th>\n",
       "      <td>44543</td>\n",
       "      <td>1.554336e+09</td>\n",
       "      <td>1.554337e+09</td>\n",
       "    </tr>\n",
       "    <tr>\n",
       "      <th>201</th>\n",
       "      <td>45436</td>\n",
       "      <td>1.554336e+09</td>\n",
       "      <td>1.554336e+09</td>\n",
       "    </tr>\n",
       "    <tr>\n",
       "      <th>324</th>\n",
       "      <td>119450</td>\n",
       "      <td>1.554336e+09</td>\n",
       "      <td>1.554336e+09</td>\n",
       "    </tr>\n",
       "  </tbody>\n",
       "</table>\n",
       "</div>"
      ],
      "text/plain": [
       "event   ad_id         click          view\n",
       "27      16548  1.554336e+09  1.554336e+09\n",
       "81      30939  1.554165e+09  1.554173e+09\n",
       "138     40464  1.554164e+09  1.554164e+09\n",
       "158     42007  1.554423e+09  1.554423e+09\n",
       "185     44543  1.554336e+09  1.554337e+09\n",
       "201     45436  1.554336e+09  1.554336e+09\n",
       "324    119450  1.554336e+09  1.554336e+09"
      ]
     },
     "execution_count": 38,
     "metadata": {},
     "output_type": "execute_result"
    }
   ],
   "source": [
    "ads_data.groupby(['ad_id', 'event'], as_index=False) \\\n",
    "    .agg({'time': 'min'}) \\\n",
    "    .pivot(index='ad_id', columns='event', values='time').reset_index() \\\n",
    "    .query('click < view')"
   ]
  }
 ],
 "metadata": {
  "kernelspec": {
   "display_name": "Python 3",
   "language": "python",
   "name": "python3"
  },
  "language_info": {
   "codemirror_mode": {
    "name": "ipython",
    "version": 3
   },
   "file_extension": ".py",
   "mimetype": "text/x-python",
   "name": "python",
   "nbconvert_exporter": "python",
   "pygments_lexer": "ipython3",
   "version": "3.7.3"
  }
 },
 "nbformat": 4,
 "nbformat_minor": 4
}
